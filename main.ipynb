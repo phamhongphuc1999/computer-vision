{
 "cells": [
  {
   "cell_type": "code",
   "execution_count": null,
   "metadata": {},
   "outputs": [],
   "source": [
    "import numpy as np # linear algebra\n",
    "import pandas as pd # data processing, CSV file I/O (e.g. pd.read_csv)\n",
    "import os\n",
    "import random\n",
    "import matplotlib.pyplot as plt\n",
    "import matplotlib.image as mpimg\n",
    "import cv2\n",
    "from matplotlib import pyplot as plt\n",
    "from mtcnn import MTCNN"
   ]
  },
  {
   "cell_type": "code",
   "execution_count": null,
   "metadata": {},
   "outputs": [],
   "source": [
    "from utils import count_file_and_folder\n",
    "\n",
    "folder_count, total_file_count = count_file_and_folder('./data1')\n",
    "print(f\"\\nNumber of folders: {folder_count}\")\n",
    "print(f\"Total number of files: {total_file_count}\")"
   ]
  },
  {
   "cell_type": "markdown",
   "metadata": {},
   "source": [
    "## Preprocessing"
   ]
  },
  {
   "cell_type": "code",
   "execution_count": null,
   "metadata": {},
   "outputs": [],
   "source": [
    "from utils import reset_folder\n",
    "\n",
    "reset_folder('./detected_faces')\n",
    "print(\"Contents of detected_faces cleared.\")"
   ]
  },
  {
   "cell_type": "code",
   "execution_count": null,
   "metadata": {},
   "outputs": [],
   "source": [
    "from services.preprocessing import Preprocessing\n",
    "\n",
    "image_paths = Preprocessing.get_image_paths('./data1')\n",
    "Preprocessing.detect_and_save(image_paths, './detected_faces')"
   ]
  },
  {
   "cell_type": "code",
   "execution_count": null,
   "metadata": {},
   "outputs": [],
   "source": [
    "from utils import count_file_and_folder\n",
    "\n",
    "folder_count, total_file_count = count_file_and_folder('./detected_faces')\n",
    "print(f\"\\nNumber of folders: {folder_count}\")\n",
    "print(f\"Total number of files: {total_file_count}\")"
   ]
  },
  {
   "cell_type": "markdown",
   "metadata": {},
   "source": [
    "## Extracting embeddings"
   ]
  },
  {
   "cell_type": "code",
   "execution_count": null,
   "metadata": {},
   "outputs": [],
   "source": [
    "import os\n",
    "\n",
    "reset_folder('./extracted_embeddings')\n",
    "print(\"Contents of extracted_embeddings cleared.\")"
   ]
  },
  {
   "cell_type": "code",
   "execution_count": null,
   "metadata": {},
   "outputs": [],
   "source": [
    "from facenet_pytorch import InceptionResnetV1\n",
    "import torch\n",
    "from services.face_embedding import FaceEmbedding\n",
    "\n",
    "input_directory = './detected_faces'\n",
    "output_directory = './extracted_embeddings'\n",
    "\n",
    "device = torch.device('cuda' if torch.cuda.is_available() else 'cpu')\n",
    "face_embedder = InceptionResnetV1(pretrained='vggface2').eval().to(device)\n",
    "\n",
    "for folder_name in os.listdir(input_directory):\n",
    "  folder_path = os.path.join(input_directory, folder_name)\n",
    "\n",
    "  # Create subfolder in output_directory for the current label\n",
    "  label_output_directory = os.path.join(output_directory, folder_name)\n",
    "  os.makedirs(label_output_directory, exist_ok=True)\n",
    "\n",
    "  # Extract embeddings from the current folder with data augmentation\n",
    "  label, embeddings = FaceEmbedding.images_embedding(folder_path, face_embedder, device, label_output_directory)\n",
    "\n",
    "print(\"Embeddings extraction complete.\")\n"
   ]
  },
  {
   "cell_type": "code",
   "execution_count": null,
   "metadata": {},
   "outputs": [],
   "source": [
    "from utils import count_file_and_folder\n",
    "\n",
    "folder_count, total_file_count = count_file_and_folder('./extracted_embeddings')\n",
    "print(f\"\\nNumber of folders: {folder_count}\")\n",
    "print(f\"Total number of files: {total_file_count}\")"
   ]
  },
  {
   "cell_type": "markdown",
   "metadata": {},
   "source": [
    "RECOGNIZING FACES - Classification model - Multilayered Neural Network"
   ]
  },
  {
   "cell_type": "code",
   "execution_count": null,
   "metadata": {},
   "outputs": [],
   "source": [
    "from services.face_model import get_train_data\n",
    "\n",
    "data_dir = \"./extracted_embeddings\"\n",
    "embeddings, labels = get_train_data(data_dir)\n",
    "print(len(embeddings))\n",
    "print(len(labels))"
   ]
  },
  {
   "cell_type": "code",
   "execution_count": null,
   "metadata": {},
   "outputs": [],
   "source": [
    "import json\n",
    "import torch\n",
    "import numpy as np\n",
    "import torch.nn as nn\n",
    "import torch.optim as optim\n",
    "from sklearn.preprocessing import LabelEncoder\n",
    "from sklearn.model_selection import train_test_split\n",
    "from services.face_model import FaceModel, get_train_data\n",
    "\n",
    "torch.cuda.is_available = lambda : False\n",
    "device = torch.device(\"cpu\")\n",
    "data_dir = \"./extracted_embeddings\"\n",
    "embeddings, labels = get_train_data(data_dir)\n",
    "storage_label = labels\n",
    "\n",
    "X = torch.tensor(embeddings, dtype=torch.float32)\n",
    "print(\"x\", type(X))\n",
    "label_encoder = LabelEncoder()\n",
    "y = torch.tensor(label_encoder.fit_transform(labels), dtype=torch.long)\n",
    "\n",
    "# Split the data into 80% training, 10% validation, and 10% test\n",
    "X_train, X_temp, y_train, y_temp = train_test_split(X, y, test_size=0.2, random_state=42)\n",
    "X_val, X_test, y_val, y_test = train_test_split(X_temp, y_temp, test_size=0.5, random_state=42)\n",
    "\n",
    "# Initialize the model\n",
    "input_size = X_train.shape[1]\n",
    "num_classes = len(set(y_train))\n",
    "model = FaceModel(input_size, num_classes).to(device)\n",
    "\n",
    "# Define loss function and optimizer\n",
    "criterion = nn.CrossEntropyLoss()\n",
    "optimizer = optim.Adam(model.parameters(), lr=0.001)\n",
    "\n",
    "# Training loop\n",
    "num_epochs = 20\n",
    "batch_size = 32\n",
    "\n",
    "for epoch in range(num_epochs):\n",
    "    model.train()\n",
    "    for i in range(0, len(X_train), batch_size):\n",
    "        inputs = X_train[i:i+batch_size].to(device)\n",
    "        labels = y_train[i:i+batch_size].to(device)\n",
    "\n",
    "        optimizer.zero_grad()\n",
    "\n",
    "        outputs = model(inputs)\n",
    "        loss = criterion(outputs, labels)\n",
    "        loss.backward()\n",
    "        optimizer.step()\n",
    "\n",
    "    # Validation\n",
    "    model.eval()\n",
    "    with torch.no_grad():\n",
    "        val_inputs = X_val.to(device)\n",
    "        val_labels = y_val.to(device)\n",
    "\n",
    "        val_outputs = model(val_inputs)\n",
    "        val_loss = criterion(val_outputs, val_labels)\n",
    "\n",
    "    print(f\"Epoch {epoch+1}/{num_epochs}, Train Loss: {loss.item():.4f}, Validation Loss: {val_loss.item():.4f}\")\n",
    "\n",
    "model.eval()\n",
    "with torch.no_grad():\n",
    "    test_inputs = X_test.to(device)\n",
    "    test_labels = y_test.to(device)\n",
    "\n",
    "    test_outputs = model(test_inputs)\n",
    "    test_loss = criterion(test_outputs, test_labels)\n",
    "\n",
    "predicted_labels = label_encoder.inverse_transform(torch.argmax(test_outputs, dim=1).cpu().numpy())\n",
    "print(\"test_outputs\", len(test_outputs), len(predicted_labels))\n",
    "true_labels = label_encoder.inverse_transform(y_test.cpu().numpy())\n",
    "\n",
    "print(\"Classification Report: \")\n",
    "torch.save(model.state_dict(), \"./weights\")\n",
    "file = open('metadata.json', 'w', encoding='utf-8')\n",
    "json.dump({\"input_size\": input_size, \"num_classes\": num_classes, \"labels\": list(storage_label)}, file)\n",
    "file.close()"
   ]
  },
  {
   "cell_type": "code",
   "execution_count": null,
   "metadata": {},
   "outputs": [],
   "source": [
    "import cv2\n",
    "import json\n",
    "import torch\n",
    "from mtcnn import MTCNN\n",
    "from services.face_model import FaceModel\n",
    "from facenet_pytorch import InceptionResnetV1\n",
    "from sklearn.preprocessing import LabelEncoder\n",
    "from services.face_embedding import FaceEmbedding\n",
    "from services.face_detection import FaceDetection\n",
    "\n",
    "file = open('metadata.json')\n",
    "data = json.load(file)\n",
    "file.close()\n",
    "model = FaceModel(data['input_size'], data['num_classes'])\n",
    "model.load_state_dict(torch.load('weights'))\n",
    "model.eval()\n",
    "\n",
    "label_encoder = LabelEncoder()\n",
    "label_encoder.fit_transform(data['labels'])\n",
    "device = torch.device('cuda' if torch.cuda.is_available() else 'cpu')\n",
    "face_embedder = InceptionResnetV1(pretrained='vggface2').eval().to(device)\n",
    "\n",
    "face_detector = MTCNN()\n",
    "# rgb_img, faces = FaceDetection.detect('./images/selena-gomez.jpeg', face_detector)\n",
    "# img = cv2.imread('./images/selena-gomez.jpeg')\n",
    "# x, y, w, h = faces[0][\"box\"]\n",
    "# face_roi = img[y: y + h, x: x + w]\n",
    "# resized_face = cv2.resize(face_roi, (224, 224))\n",
    "# cv2.imwrite(\"./images/abc.jpg\", resized_face)\n",
    "# FaceDetection.draw(\"123\", rgb_img, faces)\n",
    "\n",
    "embedding = FaceEmbedding.image_embedding('./images/abc.jpg', face_embedder, device)\n",
    "torch_embedding = torch.tensor([embedding], dtype=torch.float32)\n",
    "labels = model(torch_embedding.to(device))\n",
    "predicted_labels = label_encoder.inverse_transform(torch.argmax(labels, dim=1).cpu().numpy())\n",
    "print(\"test_outputs\", len(labels), len(predicted_labels))\n",
    "print(\"predicted_labels\", predicted_labels)"
   ]
  }
 ],
 "metadata": {
  "kernelspec": {
   "display_name": "Python 3",
   "language": "python",
   "name": "python3"
  },
  "language_info": {
   "codemirror_mode": {
    "name": "ipython",
    "version": 3
   },
   "file_extension": ".py",
   "mimetype": "text/x-python",
   "name": "python",
   "nbconvert_exporter": "python",
   "pygments_lexer": "ipython3",
   "version": "3.9.6"
  }
 },
 "nbformat": 4,
 "nbformat_minor": 2
}
