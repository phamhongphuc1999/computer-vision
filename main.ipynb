{
 "cells": [
  {
   "cell_type": "markdown",
   "metadata": {},
   "source": [
    "## Preprocessing"
   ]
  },
  {
   "cell_type": "code",
   "execution_count": null,
   "metadata": {},
   "outputs": [],
   "source": [
    "from utils import reset_folder\n",
    "\n",
    "reset_folder('./detected_faces')\n",
    "print(\"Contents of detected_faces cleared.\")"
   ]
  },
  {
   "cell_type": "code",
   "execution_count": null,
   "metadata": {},
   "outputs": [],
   "source": [
    "from services.preprocessing import Preprocessing\n",
    "\n",
    "image_paths = Preprocessing.get_image_paths('./data1')\n",
    "Preprocessing.detect_and_save(image_paths, './detected_faces')"
   ]
  },
  {
   "cell_type": "code",
   "execution_count": null,
   "metadata": {},
   "outputs": [],
   "source": [
    "from utils import count_file_and_folder\n",
    "\n",
    "folder_count, total_file_count = count_file_and_folder('./detected_faces')\n",
    "print(f\"\\nNumber of folders: {folder_count}\")\n",
    "print(f\"Total number of files: {total_file_count}\")"
   ]
  },
  {
   "cell_type": "markdown",
   "metadata": {},
   "source": [
    "## Using VGG16 model"
   ]
  },
  {
   "cell_type": "code",
   "execution_count": null,
   "metadata": {},
   "outputs": [],
   "source": [
    "import os\n",
    "import shutil\n",
    "\n",
    "def create_train_data(folder_path: str):\n",
    "    os.mkdir('./resources/train')\n",
    "    os.mkdir('./resources/val')\n",
    "    for folder_name in os.listdir(folder_path):\n",
    "        names = folder_name[5:].lower().split(' ')\n",
    "        name = '_'.join(names)\n",
    "        sub_folder_path = os.path.join(folder_path, folder_name)\n",
    "        print('sub_folder_path', sub_folder_path)\n",
    "        _, _, files = next(os.walk(sub_folder_path))\n",
    "        _len = len(files)\n",
    "        val_len = (_len - 2) * 0.2\n",
    "        count = 0\n",
    "        os.mkdir(f'./resources/train/{name}')\n",
    "        os.mkdir(f'./resources/val/{name}')\n",
    "        for image_name in os.listdir(sub_folder_path):\n",
    "            src_path = os.path.join(sub_folder_path, image_name)\n",
    "            pre_name = 'train'\n",
    "            if count < val_len:\n",
    "                pre_name = 'val'\n",
    "            des_path = os.path.join(f'./resources/{pre_name}/{name}', f'{name}{count}.jpg')\n",
    "            shutil.copy(src_path, des_path)\n",
    "            count += 1\n",
    "\n",
    "create_train_data('resources/train_detected_faces')"
   ]
  },
  {
   "cell_type": "code",
   "execution_count": null,
   "metadata": {},
   "outputs": [],
   "source": [
    "count = 0\n",
    "\n",
    "for actor_name in os.listdir('./resources/train'):\n",
    "  count += 1\n",
    "  sub_train_path = os.path.join('./resources/train', actor_name)\n",
    "  sub_val_path = os.path.join('./resources/val', actor_name)\n",
    "  \n",
    "  _, _, train_files = next(os.walk(sub_train_path))\n",
    "  _, _, val_files = next(os.walk(sub_val_path))\n",
    "\n",
    "  print(actor_name, len(val_files) / (len(val_files) + len(train_files)))\n",
    "\n",
    "print(count)\n"
   ]
  },
  {
   "cell_type": "code",
   "execution_count": null,
   "metadata": {},
   "outputs": [],
   "source": [
    "from services.vgg16_model import get_dataset, get_vgg16_model, execute_model\n",
    "\n",
    "train_data, test_data = get_dataset('./resources/train', './resources/val')\n",
    "num_classes = train_data.num_classes\n",
    "model = get_vgg16_model(num_classes)\n",
    "execute_model(model, train_data, test_data, 100)"
   ]
  }
 ],
 "metadata": {
  "kernelspec": {
   "display_name": "Python 3",
   "language": "python",
   "name": "python3"
  },
  "language_info": {
   "codemirror_mode": {
    "name": "ipython",
    "version": 3
   },
   "file_extension": ".py",
   "mimetype": "text/x-python",
   "name": "python",
   "nbconvert_exporter": "python",
   "pygments_lexer": "ipython3",
   "version": "3.9.6"
  }
 },
 "nbformat": 4,
 "nbformat_minor": 2
}
